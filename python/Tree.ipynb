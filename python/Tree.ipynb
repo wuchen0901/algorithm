{
 "cells": [
  {
   "metadata": {},
   "cell_type": "markdown",
   "source": "## Breadth first search",
   "id": "ee99fd70dc2749b2"
  },
  {
   "cell_type": "code",
   "execution_count": null,
   "id": "initial_id",
   "metadata": {
    "collapsed": true
   },
   "outputs": [],
   "source": [
    "from collections import deque\n",
    "\n",
    "\n",
    "def bfs(root):\n",
    "    if not root:\n",
    "        return []\n",
    "\n",
    "    queue = deque([root])\n",
    "    result = []\n",
    "\n",
    "    while queue:\n",
    "        node = queue.popleft()\n",
    "        result.append(node.val)  # 可选：只记录值\n",
    "        if node.left:\n",
    "            queue.append(node.left)\n",
    "        if node.right:\n",
    "            queue.append(node.right)\n",
    "\n",
    "    return result"
   ]
  },
  {
   "metadata": {},
   "cell_type": "markdown",
   "source": "## DFS",
   "id": "96580c0f7992670"
  },
  {
   "metadata": {},
   "cell_type": "markdown",
   "source": "### Post-order",
   "id": "52a100916fb310a3"
  },
  {
   "metadata": {},
   "cell_type": "code",
   "outputs": [],
   "execution_count": null,
   "source": [
    "def dfs_postorder(root):\n",
    "    result = []\n",
    "\n",
    "    def dfs(node):\n",
    "        if not node:\n",
    "            return\n",
    "        dfs(node.left)\n",
    "        dfs(node.right)\n",
    "        result.append(node.val)\n",
    "\n",
    "    dfs(root)\n",
    "    return result"
   ],
   "id": "377324c6b724fc3e"
  },
  {
   "metadata": {},
   "cell_type": "markdown",
   "source": "### Pre-order",
   "id": "12605deb06cbbd18"
  },
  {
   "metadata": {},
   "cell_type": "code",
   "outputs": [],
   "execution_count": null,
   "source": [
    "def dfs_preorder(root):\n",
    "    result = []\n",
    "\n",
    "    def dfs(node):\n",
    "        if not node:\n",
    "            return\n",
    "        result.append(node.val)\n",
    "        dfs(node.left)\n",
    "        dfs(node.right)\n",
    "\n",
    "    dfs(root)\n",
    "    return result"
   ],
   "id": "1dabbe7995f1f437"
  },
  {
   "metadata": {},
   "cell_type": "markdown",
   "source": "### In-order",
   "id": "51230a963e35a943"
  },
  {
   "metadata": {},
   "cell_type": "code",
   "outputs": [],
   "execution_count": null,
   "source": [
    "def dfs_inorder(root):\n",
    "    result = []\n",
    "\n",
    "    def dfs(node):\n",
    "        if not node:\n",
    "            return\n",
    "        dfs(node.left)\n",
    "        result.append(node.val)\n",
    "        dfs(node.right)\n",
    "\n",
    "    dfs(root)\n",
    "    return result"
   ],
   "id": "26fd28c22089e039"
  }
 ],
 "metadata": {
  "kernelspec": {
   "display_name": "Python 3",
   "language": "python",
   "name": "python3"
  },
  "language_info": {
   "codemirror_mode": {
    "name": "ipython",
    "version": 2
   },
   "file_extension": ".py",
   "mimetype": "text/x-python",
   "name": "python",
   "nbconvert_exporter": "python",
   "pygments_lexer": "ipython2",
   "version": "2.7.6"
  }
 },
 "nbformat": 4,
 "nbformat_minor": 5
}
